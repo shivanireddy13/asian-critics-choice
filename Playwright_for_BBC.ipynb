{
 "cells": [
  {
   "cell_type": "code",
   "execution_count": 170,
   "id": "2899afbc",
   "metadata": {},
   "outputs": [],
   "source": [
    "#imports\n",
    "import pandas as pd\n",
    "from playwright.async_api import async_playwright\n",
    "playwright = await async_playwright().start()\n",
    "browser = await playwright.chromium.launch(headless = False)\n",
    "page = await browser.new_page()"
   ]
  },
  {
   "cell_type": "code",
   "execution_count": 171,
   "id": "b4f915a8",
   "metadata": {},
   "outputs": [],
   "source": [
    "import requests\n",
    "my_url = \"https://www.imdb.com/find?q=\"\n",
    "raw_html = requests.get(my_url).content\n",
    "from bs4 import BeautifulSoup"
   ]
  },
  {
   "cell_type": "code",
   "execution_count": 172,
   "id": "11518709",
   "metadata": {},
   "outputs": [
    {
     "name": "stdout",
     "output_type": "stream",
     "text": [
      "<class 'bs4.BeautifulSoup'>\n"
     ]
    }
   ],
   "source": [
    "soup_doc = BeautifulSoup(raw_html, \"html.parser\")\n",
    "print(type(soup_doc))"
   ]
  },
  {
   "cell_type": "markdown",
   "id": "5e179d22",
   "metadata": {},
   "source": [
    "Next few cells are playwright practice"
   ]
  },
  {
   "cell_type": "code",
   "execution_count": 173,
   "id": "9c028cdc",
   "metadata": {},
   "outputs": [],
   "source": [
    "url = \"https://www.imdb.com/find?q=\" "
   ]
  },
  {
   "cell_type": "code",
   "execution_count": 174,
   "id": "9e8b40af",
   "metadata": {},
   "outputs": [
    {
     "data": {
      "text/plain": [
       "<Response url='https://www.imdb.com/find?q=' request=<Request url='https://www.imdb.com/find?q=' method='GET'>>"
      ]
     },
     "execution_count": 174,
     "metadata": {},
     "output_type": "execute_result"
    }
   ],
   "source": [
    "await page.goto(url)"
   ]
  },
  {
   "cell_type": "code",
   "execution_count": 7,
   "id": "602e52da",
   "metadata": {},
   "outputs": [],
   "source": [
    "await page.locator('#suggestion-search').click()"
   ]
  },
  {
   "cell_type": "code",
   "execution_count": 8,
   "id": "e17ab244",
   "metadata": {},
   "outputs": [],
   "source": [
    "await page.fill('#suggestion-search', 'David Lynch')"
   ]
  },
  {
   "cell_type": "code",
   "execution_count": 10,
   "id": "1d590587",
   "metadata": {},
   "outputs": [],
   "source": [
    "await page.keyboard.press('Enter')"
   ]
  },
  {
   "cell_type": "code",
   "execution_count": 14,
   "id": "1d73e559",
   "metadata": {},
   "outputs": [],
   "source": [
    "await page.locator('#__next > main > div.ipc-page-content-container.ipc-page-content-container--full.sc-5c7dd5e4-0.iRUEko > div.ipc-page-content-container.ipc-page-content-container--center > section > div > div.ipc-page-grid__item.ipc-page-grid__item--span-2 > section:nth-child(3) > div.sc-17bafbdb-2.fgqnfI > ul > li:nth-child(1) > div.ipc-metadata-list-summary-item__c > div.ipc-metadata-list-summary-item__tc > a').click()\n"
   ]
  },
  {
   "cell_type": "code",
   "execution_count": 17,
   "id": "200f2d88",
   "metadata": {},
   "outputs": [
    {
     "data": {
      "text/plain": [
       "'Missoula, Montana, USA'"
      ]
     },
     "execution_count": 17,
     "metadata": {},
     "output_type": "execute_result"
    }
   ],
   "source": [
    "await page.locator('#__next > main > div > section.ipc-page-background.ipc-page-background--base.sc-9b716f3b-0.hWwhTB > div > section > div > div.sc-4253d404-1.hwVyrY.ipc-page-grid__item.ipc-page-grid__item--span-2 > section:nth-child(22) > div.sc-f65f65be-0.ktSkVi > ul > li:nth-child(4) > div > ul > li:nth-child(2) > a').text_content()"
   ]
  },
  {
   "cell_type": "code",
   "execution_count": 43,
   "id": "3ea680e0",
   "metadata": {},
   "outputs": [],
   "source": [
    "#import your df to extract directors list\n",
    "df = pd.read_csv('bbcmovies.csv')"
   ]
  },
  {
   "cell_type": "code",
   "execution_count": 44,
   "id": "c664ce12",
   "metadata": {},
   "outputs": [
    {
     "data": {
      "text/html": [
       "<div>\n",
       "<style scoped>\n",
       "    .dataframe tbody tr th:only-of-type {\n",
       "        vertical-align: middle;\n",
       "    }\n",
       "\n",
       "    .dataframe tbody tr th {\n",
       "        vertical-align: top;\n",
       "    }\n",
       "\n",
       "    .dataframe thead th {\n",
       "        text-align: right;\n",
       "    }\n",
       "</style>\n",
       "<table border=\"1\" class=\"dataframe\">\n",
       "  <thead>\n",
       "    <tr style=\"text-align: right;\">\n",
       "      <th></th>\n",
       "      <th>Unnamed: 0.1</th>\n",
       "      <th>Unnamed: 0</th>\n",
       "      <th>movie_name</th>\n",
       "      <th>movie_rank</th>\n",
       "      <th>movie_year</th>\n",
       "      <th>movie_dir</th>\n",
       "      <th>critic_name</th>\n",
       "      <th>critic_org</th>\n",
       "      <th>critic_cn</th>\n",
       "    </tr>\n",
       "  </thead>\n",
       "  <tbody>\n",
       "    <tr>\n",
       "      <th>0</th>\n",
       "      <td>0</td>\n",
       "      <td>0</td>\n",
       "      <td>Mulholland Drive</td>\n",
       "      <td>1</td>\n",
       "      <td>2001</td>\n",
       "      <td>David Lynch</td>\n",
       "      <td>Simon Abrams</td>\n",
       "      <td>Freelance film critic</td>\n",
       "      <td>US</td>\n",
       "    </tr>\n",
       "    <tr>\n",
       "      <th>1</th>\n",
       "      <td>1</td>\n",
       "      <td>1</td>\n",
       "      <td>In the Mood for Love</td>\n",
       "      <td>2</td>\n",
       "      <td>2000</td>\n",
       "      <td>Wong Kar-wai</td>\n",
       "      <td>Simon Abrams</td>\n",
       "      <td>Freelance film critic</td>\n",
       "      <td>US</td>\n",
       "    </tr>\n",
       "    <tr>\n",
       "      <th>2</th>\n",
       "      <td>2</td>\n",
       "      <td>2</td>\n",
       "      <td>The Tree of Life</td>\n",
       "      <td>3</td>\n",
       "      <td>2011</td>\n",
       "      <td>Terrence Malick</td>\n",
       "      <td>Simon Abrams</td>\n",
       "      <td>Freelance film critic</td>\n",
       "      <td>US</td>\n",
       "    </tr>\n",
       "    <tr>\n",
       "      <th>3</th>\n",
       "      <td>3</td>\n",
       "      <td>3</td>\n",
       "      <td>Yi Yi: A One and a Two</td>\n",
       "      <td>4</td>\n",
       "      <td>2000</td>\n",
       "      <td>Edward Yang</td>\n",
       "      <td>Simon Abrams</td>\n",
       "      <td>Freelance film critic</td>\n",
       "      <td>US</td>\n",
       "    </tr>\n",
       "    <tr>\n",
       "      <th>4</th>\n",
       "      <td>4</td>\n",
       "      <td>4</td>\n",
       "      <td>Goodbye to Language</td>\n",
       "      <td>5</td>\n",
       "      <td>2014</td>\n",
       "      <td>Jean-Luc Godard</td>\n",
       "      <td>Simon Abrams</td>\n",
       "      <td>Freelance film critic</td>\n",
       "      <td>US</td>\n",
       "    </tr>\n",
       "    <tr>\n",
       "      <th>...</th>\n",
       "      <td>...</td>\n",
       "      <td>...</td>\n",
       "      <td>...</td>\n",
       "      <td>...</td>\n",
       "      <td>...</td>\n",
       "      <td>...</td>\n",
       "      <td>...</td>\n",
       "      <td>...</td>\n",
       "      <td>...</td>\n",
       "    </tr>\n",
       "    <tr>\n",
       "      <th>1765</th>\n",
       "      <td>1765</td>\n",
       "      <td>1765</td>\n",
       "      <td>The Lives of Others</td>\n",
       "      <td>6</td>\n",
       "      <td>2006</td>\n",
       "      <td>Florian Henckel von Donnersmarck</td>\n",
       "      <td>Raymond Zhou</td>\n",
       "      <td>China Daily</td>\n",
       "      <td>China</td>\n",
       "    </tr>\n",
       "    <tr>\n",
       "      <th>1766</th>\n",
       "      <td>1766</td>\n",
       "      <td>1766</td>\n",
       "      <td>Still Life</td>\n",
       "      <td>7</td>\n",
       "      <td>2006</td>\n",
       "      <td>Jia Zhangke</td>\n",
       "      <td>Raymond Zhou</td>\n",
       "      <td>China Daily</td>\n",
       "      <td>China</td>\n",
       "    </tr>\n",
       "    <tr>\n",
       "      <th>1767</th>\n",
       "      <td>1767</td>\n",
       "      <td>1767</td>\n",
       "      <td>Birdman</td>\n",
       "      <td>8</td>\n",
       "      <td>2014</td>\n",
       "      <td>Alejandro González Iñárritu</td>\n",
       "      <td>Raymond Zhou</td>\n",
       "      <td>China Daily</td>\n",
       "      <td>China</td>\n",
       "    </tr>\n",
       "    <tr>\n",
       "      <th>1768</th>\n",
       "      <td>1768</td>\n",
       "      <td>1768</td>\n",
       "      <td>Infernal Affairs</td>\n",
       "      <td>9</td>\n",
       "      <td>2002</td>\n",
       "      <td>Andrew Lau and Alan Mak</td>\n",
       "      <td>Raymond Zhou</td>\n",
       "      <td>China Daily</td>\n",
       "      <td>China</td>\n",
       "    </tr>\n",
       "    <tr>\n",
       "      <th>1769</th>\n",
       "      <td>1769</td>\n",
       "      <td>1769</td>\n",
       "      <td>City of God</td>\n",
       "      <td>10</td>\n",
       "      <td>2002</td>\n",
       "      <td>Fernando Meirelles and Kátia Lund</td>\n",
       "      <td>Raymond Zhou</td>\n",
       "      <td>China Daily</td>\n",
       "      <td>China</td>\n",
       "    </tr>\n",
       "  </tbody>\n",
       "</table>\n",
       "<p>1770 rows × 9 columns</p>\n",
       "</div>"
      ],
      "text/plain": [
       "      Unnamed: 0.1  Unnamed: 0                movie_name  movie_rank  \\\n",
       "0                0           0         Mulholland Drive            1   \n",
       "1                1           1     In the Mood for Love            2   \n",
       "2                2           2         The Tree of Life            3   \n",
       "3                3           3   Yi Yi: A One and a Two            4   \n",
       "4                4           4      Goodbye to Language            5   \n",
       "...            ...         ...                       ...         ...   \n",
       "1765          1765        1765      The Lives of Others            6   \n",
       "1766          1766        1766               Still Life            7   \n",
       "1767          1767        1767                  Birdman            8   \n",
       "1768          1768        1768         Infernal Affairs            9   \n",
       "1769          1769        1769              City of God           10   \n",
       "\n",
       "     movie_year                          movie_dir   critic_name  \\\n",
       "0          2001                        David Lynch  Simon Abrams   \n",
       "1          2000                       Wong Kar-wai  Simon Abrams   \n",
       "2          2011                    Terrence Malick  Simon Abrams   \n",
       "3          2000                        Edward Yang  Simon Abrams   \n",
       "4          2014                    Jean-Luc Godard  Simon Abrams   \n",
       "...         ...                                ...           ...   \n",
       "1765       2006   Florian Henckel von Donnersmarck  Raymond Zhou   \n",
       "1766       2006                        Jia Zhangke  Raymond Zhou   \n",
       "1767       2014        Alejandro González Iñárritu  Raymond Zhou   \n",
       "1768       2002            Andrew Lau and Alan Mak  Raymond Zhou   \n",
       "1769       2002  Fernando Meirelles and Kátia Lund  Raymond Zhou   \n",
       "\n",
       "                 critic_org critic_cn  \n",
       "0     Freelance film critic        US  \n",
       "1     Freelance film critic        US  \n",
       "2     Freelance film critic        US  \n",
       "3     Freelance film critic        US  \n",
       "4     Freelance film critic        US  \n",
       "...                     ...       ...  \n",
       "1765            China Daily     China  \n",
       "1766            China Daily     China  \n",
       "1767            China Daily     China  \n",
       "1768            China Daily     China  \n",
       "1769            China Daily     China  \n",
       "\n",
       "[1770 rows x 9 columns]"
      ]
     },
     "execution_count": 44,
     "metadata": {},
     "output_type": "execute_result"
    }
   ],
   "source": [
    "df"
   ]
  },
  {
   "cell_type": "code",
   "execution_count": 52,
   "id": "d0922ffd",
   "metadata": {},
   "outputs": [
    {
     "ename": "TimeoutError",
     "evalue": "Timeout 30000ms exceeded.\n=========================== logs ===========================\nwaiting for locator(\"#__next > main > div.ipc-page-content-container.ipc-page-content-container--full.sc-5c7dd5e4-0.iRUEko > div.ipc-page-content-container.ipc-page-content-container--center > section > div > div.ipc-page-grid__item.ipc-page-grid__item--span-2 > section:nth-child(3) > div.sc-17bafbdb-2.fgqnfI > ul > li:nth-child(1) > div.ipc-metadata-list-summary-item__c > div.ipc-metadata-list-summary-item__tc > a\")\n============================================================",
     "output_type": "error",
     "traceback": [
      "\u001b[0;31m---------------------------------------------------------------------------\u001b[0m",
      "\u001b[0;31mTimeoutError\u001b[0m                              Traceback (most recent call last)",
      "Cell \u001b[0;32mIn [52], line 10\u001b[0m\n\u001b[1;32m      4\u001b[0m \u001b[38;5;28;01mawait\u001b[39;00m page\u001b[38;5;241m.\u001b[39mkeyboard\u001b[38;5;241m.\u001b[39mpress(\u001b[38;5;124m'\u001b[39m\u001b[38;5;124mEnter\u001b[39m\u001b[38;5;124m'\u001b[39m)\n\u001b[1;32m      5\u001b[0m \u001b[38;5;66;03m#if r\"\\s+and\\s+\" in director:\u001b[39;00m\n\u001b[1;32m      6\u001b[0m    \u001b[38;5;66;03m# pass//*[@id=\"__next\"]/main/div/section[1]/div/section/div/div[1]/section[5]/div[2]/ul/li[3]/div/ul/li[2]/a \u001b[39;00m\n\u001b[1;32m      7\u001b[0m     \u001b[38;5;66;03m# /html/body/div[2]/main/div/section[1]/div/section/div/div[1]/section[5]/div[2]/ul/li[3]/div/ul/li[2]/a\u001b[39;00m\n\u001b[1;32m      8\u001b[0m     \u001b[38;5;66;03m# \u001b[39;00m\n\u001b[1;32m      9\u001b[0m \u001b[38;5;66;03m#else:\u001b[39;00m\n\u001b[0;32m---> 10\u001b[0m \u001b[38;5;28;01mawait\u001b[39;00m page\u001b[38;5;241m.\u001b[39mlocator(\u001b[38;5;124m'\u001b[39m\u001b[38;5;124m#__next > main > div.ipc-page-content-container.ipc-page-content-container--full.sc-5c7dd5e4-0.iRUEko > div.ipc-page-content-container.ipc-page-content-container--center > section > div > div.ipc-page-grid__item.ipc-page-grid__item--span-2 > section:nth-child(3) > div.sc-17bafbdb-2.fgqnfI > ul > li:nth-child(1) > div.ipc-metadata-list-summary-item__c > div.ipc-metadata-list-summary-item__tc > a\u001b[39m\u001b[38;5;124m'\u001b[39m)\u001b[38;5;241m.\u001b[39mclick()\n\u001b[1;32m     11\u001b[0m \u001b[38;5;28;01mawait\u001b[39;00m page\u001b[38;5;241m.\u001b[39mlocator(\u001b[38;5;124m'\u001b[39m\u001b[38;5;124m#__next > main > div > section.ipc-page-background.ipc-page-background--base.sc-9b716f3b-0.hWwhTB > div > section > div > div.sc-4253d404-1.hwVyrY.ipc-page-grid__item.ipc-page-grid__item--span-2 > section:nth-child(22) > div.sc-f65f65be-0.ktSkVi > ul > li:nth-child(4) > div > ul > li:nth-child(2) > a\u001b[39m\u001b[38;5;124m'\u001b[39m)\u001b[38;5;241m.\u001b[39mall_text_contents()\n",
      "File \u001b[0;32m~/.pyenv/versions/3.11.0rc2/lib/python3.11/site-packages/playwright/async_api/_generated.py:13617\u001b[0m, in \u001b[0;36mLocator.click\u001b[0;34m(self, modifiers, position, delay, button, click_count, timeout, force, no_wait_after, trial)\u001b[0m\n\u001b[1;32m  13560\u001b[0m \u001b[38;5;28;01masync\u001b[39;00m \u001b[38;5;28;01mdef\u001b[39;00m \u001b[38;5;21mclick\u001b[39m(\n\u001b[1;32m  13561\u001b[0m     \u001b[38;5;28mself\u001b[39m,\n\u001b[1;32m  13562\u001b[0m     \u001b[38;5;241m*\u001b[39m,\n\u001b[0;32m   (...)\u001b[0m\n\u001b[1;32m  13573\u001b[0m     trial: typing\u001b[38;5;241m.\u001b[39mOptional[\u001b[38;5;28mbool\u001b[39m] \u001b[38;5;241m=\u001b[39m \u001b[38;5;28;01mNone\u001b[39;00m\n\u001b[1;32m  13574\u001b[0m ) \u001b[38;5;241m-\u001b[39m\u001b[38;5;241m>\u001b[39m \u001b[38;5;28;01mNone\u001b[39;00m:\n\u001b[1;32m  13575\u001b[0m     \u001b[38;5;124;03m\"\"\"Locator.click\u001b[39;00m\n\u001b[1;32m  13576\u001b[0m \n\u001b[1;32m  13577\u001b[0m \u001b[38;5;124;03m    This method clicks the element by performing the following steps:\u001b[39;00m\n\u001b[0;32m   (...)\u001b[0m\n\u001b[1;32m  13613\u001b[0m \u001b[38;5;124;03m        `false`. Useful to wait until the element is ready for the action without performing it.\u001b[39;00m\n\u001b[1;32m  13614\u001b[0m \u001b[38;5;124;03m    \"\"\"\u001b[39;00m\n\u001b[1;32m  13616\u001b[0m     \u001b[38;5;28;01mreturn\u001b[39;00m mapping\u001b[38;5;241m.\u001b[39mfrom_maybe_impl(\n\u001b[0;32m> 13617\u001b[0m         \u001b[38;5;28;01mawait\u001b[39;00m \u001b[38;5;28mself\u001b[39m\u001b[38;5;241m.\u001b[39m_impl_obj\u001b[38;5;241m.\u001b[39mclick(\n\u001b[1;32m  13618\u001b[0m             modifiers\u001b[38;5;241m=\u001b[39mmapping\u001b[38;5;241m.\u001b[39mto_impl(modifiers),\n\u001b[1;32m  13619\u001b[0m             position\u001b[38;5;241m=\u001b[39mposition,\n\u001b[1;32m  13620\u001b[0m             delay\u001b[38;5;241m=\u001b[39mdelay,\n\u001b[1;32m  13621\u001b[0m             button\u001b[38;5;241m=\u001b[39mbutton,\n\u001b[1;32m  13622\u001b[0m             clickCount\u001b[38;5;241m=\u001b[39mclick_count,\n\u001b[1;32m  13623\u001b[0m             timeout\u001b[38;5;241m=\u001b[39mtimeout,\n\u001b[1;32m  13624\u001b[0m             force\u001b[38;5;241m=\u001b[39mforce,\n\u001b[1;32m  13625\u001b[0m             noWaitAfter\u001b[38;5;241m=\u001b[39mno_wait_after,\n\u001b[1;32m  13626\u001b[0m             trial\u001b[38;5;241m=\u001b[39mtrial,\n\u001b[1;32m  13627\u001b[0m         )\n\u001b[1;32m  13628\u001b[0m     )\n",
      "File \u001b[0;32m~/.pyenv/versions/3.11.0rc2/lib/python3.11/site-packages/playwright/_impl/_locator.py:146\u001b[0m, in \u001b[0;36mLocator.click\u001b[0;34m(self, modifiers, position, delay, button, clickCount, timeout, force, noWaitAfter, trial)\u001b[0m\n\u001b[1;32m    133\u001b[0m \u001b[38;5;28;01masync\u001b[39;00m \u001b[38;5;28;01mdef\u001b[39;00m \u001b[38;5;21mclick\u001b[39m(\n\u001b[1;32m    134\u001b[0m     \u001b[38;5;28mself\u001b[39m,\n\u001b[1;32m    135\u001b[0m     modifiers: List[KeyboardModifier] \u001b[38;5;241m=\u001b[39m \u001b[38;5;28;01mNone\u001b[39;00m,\n\u001b[0;32m   (...)\u001b[0m\n\u001b[1;32m    143\u001b[0m     trial: \u001b[38;5;28mbool\u001b[39m \u001b[38;5;241m=\u001b[39m \u001b[38;5;28;01mNone\u001b[39;00m,\n\u001b[1;32m    144\u001b[0m ) \u001b[38;5;241m-\u001b[39m\u001b[38;5;241m>\u001b[39m \u001b[38;5;28;01mNone\u001b[39;00m:\n\u001b[1;32m    145\u001b[0m     params \u001b[38;5;241m=\u001b[39m locals_to_params(\u001b[38;5;28mlocals\u001b[39m())\n\u001b[0;32m--> 146\u001b[0m     \u001b[38;5;28;01mreturn\u001b[39;00m \u001b[38;5;28;01mawait\u001b[39;00m \u001b[38;5;28mself\u001b[39m\u001b[38;5;241m.\u001b[39m_frame\u001b[38;5;241m.\u001b[39mclick(\u001b[38;5;28mself\u001b[39m\u001b[38;5;241m.\u001b[39m_selector, strict\u001b[38;5;241m=\u001b[39m\u001b[38;5;28;01mTrue\u001b[39;00m, \u001b[38;5;241m*\u001b[39m\u001b[38;5;241m*\u001b[39mparams)\n",
      "File \u001b[0;32m~/.pyenv/versions/3.11.0rc2/lib/python3.11/site-packages/playwright/_impl/_frame.py:489\u001b[0m, in \u001b[0;36mFrame.click\u001b[0;34m(self, selector, modifiers, position, delay, button, clickCount, timeout, force, noWaitAfter, strict, trial)\u001b[0m\n\u001b[1;32m    475\u001b[0m \u001b[38;5;28;01masync\u001b[39;00m \u001b[38;5;28;01mdef\u001b[39;00m \u001b[38;5;21mclick\u001b[39m(\n\u001b[1;32m    476\u001b[0m     \u001b[38;5;28mself\u001b[39m,\n\u001b[1;32m    477\u001b[0m     selector: \u001b[38;5;28mstr\u001b[39m,\n\u001b[0;32m   (...)\u001b[0m\n\u001b[1;32m    487\u001b[0m     trial: \u001b[38;5;28mbool\u001b[39m \u001b[38;5;241m=\u001b[39m \u001b[38;5;28;01mNone\u001b[39;00m,\n\u001b[1;32m    488\u001b[0m ) \u001b[38;5;241m-\u001b[39m\u001b[38;5;241m>\u001b[39m \u001b[38;5;28;01mNone\u001b[39;00m:\n\u001b[0;32m--> 489\u001b[0m     \u001b[38;5;28;01mawait\u001b[39;00m \u001b[38;5;28mself\u001b[39m\u001b[38;5;241m.\u001b[39m_channel\u001b[38;5;241m.\u001b[39msend(\u001b[38;5;124m\"\u001b[39m\u001b[38;5;124mclick\u001b[39m\u001b[38;5;124m\"\u001b[39m, locals_to_params(\u001b[38;5;28mlocals\u001b[39m()))\n",
      "File \u001b[0;32m~/.pyenv/versions/3.11.0rc2/lib/python3.11/site-packages/playwright/_impl/_connection.py:44\u001b[0m, in \u001b[0;36mChannel.send\u001b[0;34m(self, method, params)\u001b[0m\n\u001b[1;32m     43\u001b[0m \u001b[38;5;28;01masync\u001b[39;00m \u001b[38;5;28;01mdef\u001b[39;00m \u001b[38;5;21msend\u001b[39m(\u001b[38;5;28mself\u001b[39m, method: \u001b[38;5;28mstr\u001b[39m, params: Dict \u001b[38;5;241m=\u001b[39m \u001b[38;5;28;01mNone\u001b[39;00m) \u001b[38;5;241m-\u001b[39m\u001b[38;5;241m>\u001b[39m Any:\n\u001b[0;32m---> 44\u001b[0m     \u001b[38;5;28;01mreturn\u001b[39;00m \u001b[38;5;28;01mawait\u001b[39;00m \u001b[38;5;28mself\u001b[39m\u001b[38;5;241m.\u001b[39m_connection\u001b[38;5;241m.\u001b[39mwrap_api_call(\n\u001b[1;32m     45\u001b[0m         \u001b[38;5;28;01mlambda\u001b[39;00m: \u001b[38;5;28mself\u001b[39m\u001b[38;5;241m.\u001b[39minner_send(method, params, \u001b[38;5;28;01mFalse\u001b[39;00m)\n\u001b[1;32m     46\u001b[0m     )\n",
      "File \u001b[0;32m~/.pyenv/versions/3.11.0rc2/lib/python3.11/site-packages/playwright/_impl/_connection.py:419\u001b[0m, in \u001b[0;36mConnection.wrap_api_call\u001b[0;34m(self, cb, is_internal)\u001b[0m\n\u001b[1;32m    417\u001b[0m     \u001b[38;5;28mself\u001b[39m\u001b[38;5;241m.\u001b[39m_api_zone\u001b[38;5;241m.\u001b[39mset(metadata)\n\u001b[1;32m    418\u001b[0m \u001b[38;5;28;01mtry\u001b[39;00m:\n\u001b[0;32m--> 419\u001b[0m     \u001b[38;5;28;01mreturn\u001b[39;00m \u001b[38;5;28;01mawait\u001b[39;00m cb()\n\u001b[1;32m    420\u001b[0m \u001b[38;5;28;01mfinally\u001b[39;00m:\n\u001b[1;32m    421\u001b[0m     \u001b[38;5;28mself\u001b[39m\u001b[38;5;241m.\u001b[39m_api_zone\u001b[38;5;241m.\u001b[39mset(\u001b[38;5;28;01mNone\u001b[39;00m)\n",
      "File \u001b[0;32m~/.pyenv/versions/3.11.0rc2/lib/python3.11/site-packages/playwright/_impl/_connection.py:79\u001b[0m, in \u001b[0;36mChannel.inner_send\u001b[0;34m(self, method, params, return_as_dict)\u001b[0m\n\u001b[1;32m     77\u001b[0m \u001b[38;5;28;01mif\u001b[39;00m \u001b[38;5;129;01mnot\u001b[39;00m callback\u001b[38;5;241m.\u001b[39mfuture\u001b[38;5;241m.\u001b[39mdone():\n\u001b[1;32m     78\u001b[0m     callback\u001b[38;5;241m.\u001b[39mfuture\u001b[38;5;241m.\u001b[39mcancel()\n\u001b[0;32m---> 79\u001b[0m result \u001b[38;5;241m=\u001b[39m \u001b[38;5;28mnext\u001b[39m(\u001b[38;5;28miter\u001b[39m(done))\u001b[38;5;241m.\u001b[39mresult()\n\u001b[1;32m     80\u001b[0m \u001b[38;5;66;03m# Protocol now has named return values, assume result is one level deeper unless\u001b[39;00m\n\u001b[1;32m     81\u001b[0m \u001b[38;5;66;03m# there is explicit ambiguity.\u001b[39;00m\n\u001b[1;32m     82\u001b[0m \u001b[38;5;28;01mif\u001b[39;00m \u001b[38;5;129;01mnot\u001b[39;00m result:\n",
      "\u001b[0;31mTimeoutError\u001b[0m: Timeout 30000ms exceeded.\n=========================== logs ===========================\nwaiting for locator(\"#__next > main > div.ipc-page-content-container.ipc-page-content-container--full.sc-5c7dd5e4-0.iRUEko > div.ipc-page-content-container.ipc-page-content-container--center > section > div > div.ipc-page-grid__item.ipc-page-grid__item--span-2 > section:nth-child(3) > div.sc-17bafbdb-2.fgqnfI > ul > li:nth-child(1) > div.ipc-metadata-list-summary-item__c > div.ipc-metadata-list-summary-item__tc > a\")\n============================================================"
     ]
    }
   ],
   "source": [
    "# for director in df.movie_dir:\n",
    "#     await page.locator('#suggestion-search').click()\n",
    "#     await page.fill('#suggestion-search', director)\n",
    "#     await page.keyboard.press('Enter')\n",
    "#     #if r\"\\s+and\\s+\" in director:\n",
    "#        # pass//*[@id=\"__next\"]/main/div/section[1]/div/section/div/div[1]/section[5]/div[2]/ul/li[3]/div/ul/li[2]/a \n",
    "#         # /html/body/div[2]/main/div/section[1]/div/section/div/div[1]/section[5]/div[2]/ul/li[3]/div/ul/li[2]/a\n",
    "#         # \n",
    "#     #else:\n",
    "#     await page.locator('#__next > main > div.ipc-page-content-container.ipc-page-content-container--full.sc-5c7dd5e4-0.iRUEko > div.ipc-page-content-container.ipc-page-content-container--center > section > div > div.ipc-page-grid__item.ipc-page-grid__item--span-2 > section:nth-child(3) > div.sc-17bafbdb-2.fgqnfI > ul > li:nth-child(1) > div.ipc-metadata-list-summary-item__c > div.ipc-metadata-list-summary-item__tc > a').click()\n",
    "#     await page.locator('#__next > main > div > section.ipc-page-background.ipc-page-background--base.sc-9b716f3b-0.hWwhTB > div > section > div > div.sc-4253d404-1.hwVyrY.ipc-page-grid__item.ipc-page-grid__item--span-2 > section:nth-child(22) > div.sc-f65f65be-0.ktSkVi > ul > li:nth-child(4) > div > ul > li:nth-child(2) > a').all_text_contents()\n"
   ]
  },
  {
   "cell_type": "code",
   "execution_count": 175,
   "id": "fe9e949a",
   "metadata": {},
   "outputs": [],
   "source": [
    "#importing other dfs to test scrape a smaller number of directors\n",
    "\n",
    "df1 = pd.read_csv('bbcmovies1d.csv')\n",
    "dfasia = pd.read_csv('asiacriticsmovies.csv')"
   ]
  },
  {
   "cell_type": "code",
   "execution_count": 176,
   "id": "879fa1ab",
   "metadata": {},
   "outputs": [
    {
     "data": {
      "text/html": [
       "<div>\n",
       "<style scoped>\n",
       "    .dataframe tbody tr th:only-of-type {\n",
       "        vertical-align: middle;\n",
       "    }\n",
       "\n",
       "    .dataframe tbody tr th {\n",
       "        vertical-align: top;\n",
       "    }\n",
       "\n",
       "    .dataframe thead th {\n",
       "        text-align: right;\n",
       "    }\n",
       "</style>\n",
       "<table border=\"1\" class=\"dataframe\">\n",
       "  <thead>\n",
       "    <tr style=\"text-align: right;\">\n",
       "      <th></th>\n",
       "      <th>Unnamed: 0</th>\n",
       "      <th>movie_name</th>\n",
       "      <th>movie_rank</th>\n",
       "      <th>movie_year</th>\n",
       "      <th>movie_dir</th>\n",
       "      <th>critic_name</th>\n",
       "      <th>critic_org</th>\n",
       "      <th>critic_cn</th>\n",
       "    </tr>\n",
       "  </thead>\n",
       "  <tbody>\n",
       "    <tr>\n",
       "      <th>0</th>\n",
       "      <td>210</td>\n",
       "      <td>Amour</td>\n",
       "      <td>1</td>\n",
       "      <td>2012</td>\n",
       "      <td>Michael Haneke</td>\n",
       "      <td>Utpal Borpujari</td>\n",
       "      <td>Freelance film critic</td>\n",
       "      <td>India</td>\n",
       "    </tr>\n",
       "    <tr>\n",
       "      <th>1</th>\n",
       "      <td>211</td>\n",
       "      <td>A Separation</td>\n",
       "      <td>2</td>\n",
       "      <td>2011</td>\n",
       "      <td>Asghar Farhadi</td>\n",
       "      <td>Utpal Borpujari</td>\n",
       "      <td>Freelance film critic</td>\n",
       "      <td>India</td>\n",
       "    </tr>\n",
       "    <tr>\n",
       "      <th>2</th>\n",
       "      <td>212</td>\n",
       "      <td>In the Mood for Love</td>\n",
       "      <td>3</td>\n",
       "      <td>2000</td>\n",
       "      <td>Wong Kar-wai</td>\n",
       "      <td>Utpal Borpujari</td>\n",
       "      <td>Freelance film critic</td>\n",
       "      <td>India</td>\n",
       "    </tr>\n",
       "    <tr>\n",
       "      <th>3</th>\n",
       "      <td>213</td>\n",
       "      <td>A Prophet</td>\n",
       "      <td>4</td>\n",
       "      <td>2009</td>\n",
       "      <td>Jacques Audiard</td>\n",
       "      <td>Utpal Borpujari</td>\n",
       "      <td>Freelance film critic</td>\n",
       "      <td>India</td>\n",
       "    </tr>\n",
       "    <tr>\n",
       "      <th>4</th>\n",
       "      <td>214</td>\n",
       "      <td>Monsoon Wedding</td>\n",
       "      <td>5</td>\n",
       "      <td>2001</td>\n",
       "      <td>Mira Nair</td>\n",
       "      <td>Utpal Borpujari</td>\n",
       "      <td>Freelance film critic</td>\n",
       "      <td>India</td>\n",
       "    </tr>\n",
       "  </tbody>\n",
       "</table>\n",
       "</div>"
      ],
      "text/plain": [
       "   Unnamed: 0              movie_name  movie_rank  movie_year  \\\n",
       "0         210                  Amour            1        2012   \n",
       "1         211           A Separation            2        2011   \n",
       "2         212   In the Mood for Love            3        2000   \n",
       "3         213              A Prophet            4        2009   \n",
       "4         214        Monsoon Wedding            5        2001   \n",
       "\n",
       "         movie_dir      critic_name             critic_org critic_cn  \n",
       "0   Michael Haneke  Utpal Borpujari  Freelance film critic     India  \n",
       "1   Asghar Farhadi  Utpal Borpujari  Freelance film critic     India  \n",
       "2     Wong Kar-wai  Utpal Borpujari  Freelance film critic     India  \n",
       "3  Jacques Audiard  Utpal Borpujari  Freelance film critic     India  \n",
       "4        Mira Nair  Utpal Borpujari  Freelance film critic     India  "
      ]
     },
     "execution_count": 176,
     "metadata": {},
     "output_type": "execute_result"
    }
   ],
   "source": [
    "dfasia.head()"
   ]
  },
  {
   "cell_type": "code",
   "execution_count": 62,
   "id": "97d35d04",
   "metadata": {},
   "outputs": [
    {
     "name": "stdout",
     "output_type": "stream",
     "text": [
      "Missoula, Montana, USA\n"
     ]
    },
    {
     "ename": "TimeoutError",
     "evalue": "Timeout 30000ms exceeded.\n=========================== logs ===========================\nwaiting for locator(\"#__next > main > div > section.ipc-page-background.ipc-page-background--base.sc-9b716f3b-0.hWwhTB > div > section > div > div.sc-4253d404-1.hwVyrY.ipc-page-grid__item.ipc-page-grid__item--span-2 > section:nth-child(22) > div.sc-f65f65be-0.ktSkVi > ul > li:nth-child(4) > div > ul > li:nth-child(2) > a\")\n============================================================",
     "output_type": "error",
     "traceback": [
      "\u001b[0;31m---------------------------------------------------------------------------\u001b[0m",
      "\u001b[0;31mTimeoutError\u001b[0m                              Traceback (most recent call last)",
      "Cell \u001b[0;32mIn [62], line 11\u001b[0m\n\u001b[1;32m      5\u001b[0m \u001b[38;5;66;03m#if r\"\\s+and\\s+\" in director:\u001b[39;00m\n\u001b[1;32m      6\u001b[0m    \u001b[38;5;66;03m# pass//*[@id=\"__next\"]/main/div/section[1]/div/section/div/div[1]/section[5]/div[2]/ul/li[3]/div/ul/li[2]/a \u001b[39;00m\n\u001b[1;32m      7\u001b[0m     \u001b[38;5;66;03m# /html/body/div[2]/main/div/section[1]/div/section/div/div[1]/section[5]/div[2]/ul/li[3]/div/ul/li[2]/a\u001b[39;00m\n\u001b[1;32m      8\u001b[0m     \u001b[38;5;66;03m# \u001b[39;00m\n\u001b[1;32m      9\u001b[0m \u001b[38;5;66;03m#else:\u001b[39;00m\n\u001b[1;32m     10\u001b[0m \u001b[38;5;28;01mawait\u001b[39;00m page\u001b[38;5;241m.\u001b[39mlocator(\u001b[38;5;124m'\u001b[39m\u001b[38;5;124m#__next > main > div.ipc-page-content-container.ipc-page-content-container--full.sc-5c7dd5e4-0.iRUEko > div.ipc-page-content-container.ipc-page-content-container--center > section > div > div.ipc-page-grid__item.ipc-page-grid__item--span-2 > section:nth-child(3) > div.sc-17bafbdb-2.fgqnfI > ul > li:nth-child(1) > div.ipc-metadata-list-summary-item__c > div.ipc-metadata-list-summary-item__tc > a\u001b[39m\u001b[38;5;124m'\u001b[39m)\u001b[38;5;241m.\u001b[39mclick()\n\u001b[0;32m---> 11\u001b[0m birthplace \u001b[38;5;241m=\u001b[39m \u001b[38;5;28;01mawait\u001b[39;00m page\u001b[38;5;241m.\u001b[39mlocator(\u001b[38;5;124m'\u001b[39m\u001b[38;5;124m#__next > main > div > section.ipc-page-background.ipc-page-background--base.sc-9b716f3b-0.hWwhTB > div > section > div > div.sc-4253d404-1.hwVyrY.ipc-page-grid__item.ipc-page-grid__item--span-2 > section:nth-child(22) > div.sc-f65f65be-0.ktSkVi > ul > li:nth-child(4) > div > ul > li:nth-child(2) > a\u001b[39m\u001b[38;5;124m'\u001b[39m)\u001b[38;5;241m.\u001b[39mtext_content()\n\u001b[1;32m     12\u001b[0m \u001b[38;5;28mprint\u001b[39m(birthplace)\n",
      "File \u001b[0;32m~/.pyenv/versions/3.11.0rc2/lib/python3.11/site-packages/playwright/async_api/_generated.py:15204\u001b[0m, in \u001b[0;36mLocator.text_content\u001b[0;34m(self, timeout)\u001b[0m\n\u001b[1;32m  15185\u001b[0m \u001b[38;5;28;01masync\u001b[39;00m \u001b[38;5;28;01mdef\u001b[39;00m \u001b[38;5;21mtext_content\u001b[39m(\n\u001b[1;32m  15186\u001b[0m     \u001b[38;5;28mself\u001b[39m, \u001b[38;5;241m*\u001b[39m, timeout: typing\u001b[38;5;241m.\u001b[39mOptional[\u001b[38;5;28mfloat\u001b[39m] \u001b[38;5;241m=\u001b[39m \u001b[38;5;28;01mNone\u001b[39;00m\n\u001b[1;32m  15187\u001b[0m ) \u001b[38;5;241m-\u001b[39m\u001b[38;5;241m>\u001b[39m typing\u001b[38;5;241m.\u001b[39mOptional[\u001b[38;5;28mstr\u001b[39m]:\n\u001b[1;32m  15188\u001b[0m     \u001b[38;5;124;03m\"\"\"Locator.text_content\u001b[39;00m\n\u001b[1;32m  15189\u001b[0m \n\u001b[1;32m  15190\u001b[0m \u001b[38;5;124;03m    Returns the `node.textContent`.\u001b[39;00m\n\u001b[0;32m   (...)\u001b[0m\n\u001b[1;32m  15200\u001b[0m \u001b[38;5;124;03m    Union[str, None]\u001b[39;00m\n\u001b[1;32m  15201\u001b[0m \u001b[38;5;124;03m    \"\"\"\u001b[39;00m\n\u001b[1;32m  15203\u001b[0m     \u001b[38;5;28;01mreturn\u001b[39;00m mapping\u001b[38;5;241m.\u001b[39mfrom_maybe_impl(\n\u001b[0;32m> 15204\u001b[0m         \u001b[38;5;28;01mawait\u001b[39;00m \u001b[38;5;28mself\u001b[39m\u001b[38;5;241m.\u001b[39m_impl_obj\u001b[38;5;241m.\u001b[39mtext_content(timeout\u001b[38;5;241m=\u001b[39mtimeout)\n\u001b[1;32m  15205\u001b[0m     )\n",
      "File \u001b[0;32m~/.pyenv/versions/3.11.0rc2/lib/python3.11/site-packages/playwright/_impl/_locator.py:544\u001b[0m, in \u001b[0;36mLocator.text_content\u001b[0;34m(self, timeout)\u001b[0m\n\u001b[1;32m    542\u001b[0m \u001b[38;5;28;01masync\u001b[39;00m \u001b[38;5;28;01mdef\u001b[39;00m \u001b[38;5;21mtext_content\u001b[39m(\u001b[38;5;28mself\u001b[39m, timeout: \u001b[38;5;28mfloat\u001b[39m \u001b[38;5;241m=\u001b[39m \u001b[38;5;28;01mNone\u001b[39;00m) \u001b[38;5;241m-\u001b[39m\u001b[38;5;241m>\u001b[39m Optional[\u001b[38;5;28mstr\u001b[39m]:\n\u001b[1;32m    543\u001b[0m     params \u001b[38;5;241m=\u001b[39m locals_to_params(\u001b[38;5;28mlocals\u001b[39m())\n\u001b[0;32m--> 544\u001b[0m     \u001b[38;5;28;01mreturn\u001b[39;00m \u001b[38;5;28;01mawait\u001b[39;00m \u001b[38;5;28mself\u001b[39m\u001b[38;5;241m.\u001b[39m_frame\u001b[38;5;241m.\u001b[39mtext_content(\n\u001b[1;32m    545\u001b[0m         \u001b[38;5;28mself\u001b[39m\u001b[38;5;241m.\u001b[39m_selector,\n\u001b[1;32m    546\u001b[0m         strict\u001b[38;5;241m=\u001b[39m\u001b[38;5;28;01mTrue\u001b[39;00m,\n\u001b[1;32m    547\u001b[0m         \u001b[38;5;241m*\u001b[39m\u001b[38;5;241m*\u001b[39mparams,\n\u001b[1;32m    548\u001b[0m     )\n",
      "File \u001b[0;32m~/.pyenv/versions/3.11.0rc2/lib/python3.11/site-packages/playwright/_impl/_frame.py:605\u001b[0m, in \u001b[0;36mFrame.text_content\u001b[0;34m(self, selector, strict, timeout)\u001b[0m\n\u001b[1;32m    602\u001b[0m \u001b[38;5;28;01masync\u001b[39;00m \u001b[38;5;28;01mdef\u001b[39;00m \u001b[38;5;21mtext_content\u001b[39m(\n\u001b[1;32m    603\u001b[0m     \u001b[38;5;28mself\u001b[39m, selector: \u001b[38;5;28mstr\u001b[39m, strict: \u001b[38;5;28mbool\u001b[39m \u001b[38;5;241m=\u001b[39m \u001b[38;5;28;01mNone\u001b[39;00m, timeout: \u001b[38;5;28mfloat\u001b[39m \u001b[38;5;241m=\u001b[39m \u001b[38;5;28;01mNone\u001b[39;00m\n\u001b[1;32m    604\u001b[0m ) \u001b[38;5;241m-\u001b[39m\u001b[38;5;241m>\u001b[39m Optional[\u001b[38;5;28mstr\u001b[39m]:\n\u001b[0;32m--> 605\u001b[0m     \u001b[38;5;28;01mreturn\u001b[39;00m \u001b[38;5;28;01mawait\u001b[39;00m \u001b[38;5;28mself\u001b[39m\u001b[38;5;241m.\u001b[39m_channel\u001b[38;5;241m.\u001b[39msend(\u001b[38;5;124m\"\u001b[39m\u001b[38;5;124mtextContent\u001b[39m\u001b[38;5;124m\"\u001b[39m, locals_to_params(\u001b[38;5;28mlocals\u001b[39m()))\n",
      "File \u001b[0;32m~/.pyenv/versions/3.11.0rc2/lib/python3.11/site-packages/playwright/_impl/_connection.py:44\u001b[0m, in \u001b[0;36mChannel.send\u001b[0;34m(self, method, params)\u001b[0m\n\u001b[1;32m     43\u001b[0m \u001b[38;5;28;01masync\u001b[39;00m \u001b[38;5;28;01mdef\u001b[39;00m \u001b[38;5;21msend\u001b[39m(\u001b[38;5;28mself\u001b[39m, method: \u001b[38;5;28mstr\u001b[39m, params: Dict \u001b[38;5;241m=\u001b[39m \u001b[38;5;28;01mNone\u001b[39;00m) \u001b[38;5;241m-\u001b[39m\u001b[38;5;241m>\u001b[39m Any:\n\u001b[0;32m---> 44\u001b[0m     \u001b[38;5;28;01mreturn\u001b[39;00m \u001b[38;5;28;01mawait\u001b[39;00m \u001b[38;5;28mself\u001b[39m\u001b[38;5;241m.\u001b[39m_connection\u001b[38;5;241m.\u001b[39mwrap_api_call(\n\u001b[1;32m     45\u001b[0m         \u001b[38;5;28;01mlambda\u001b[39;00m: \u001b[38;5;28mself\u001b[39m\u001b[38;5;241m.\u001b[39minner_send(method, params, \u001b[38;5;28;01mFalse\u001b[39;00m)\n\u001b[1;32m     46\u001b[0m     )\n",
      "File \u001b[0;32m~/.pyenv/versions/3.11.0rc2/lib/python3.11/site-packages/playwright/_impl/_connection.py:419\u001b[0m, in \u001b[0;36mConnection.wrap_api_call\u001b[0;34m(self, cb, is_internal)\u001b[0m\n\u001b[1;32m    417\u001b[0m     \u001b[38;5;28mself\u001b[39m\u001b[38;5;241m.\u001b[39m_api_zone\u001b[38;5;241m.\u001b[39mset(metadata)\n\u001b[1;32m    418\u001b[0m \u001b[38;5;28;01mtry\u001b[39;00m:\n\u001b[0;32m--> 419\u001b[0m     \u001b[38;5;28;01mreturn\u001b[39;00m \u001b[38;5;28;01mawait\u001b[39;00m cb()\n\u001b[1;32m    420\u001b[0m \u001b[38;5;28;01mfinally\u001b[39;00m:\n\u001b[1;32m    421\u001b[0m     \u001b[38;5;28mself\u001b[39m\u001b[38;5;241m.\u001b[39m_api_zone\u001b[38;5;241m.\u001b[39mset(\u001b[38;5;28;01mNone\u001b[39;00m)\n",
      "File \u001b[0;32m~/.pyenv/versions/3.11.0rc2/lib/python3.11/site-packages/playwright/_impl/_connection.py:79\u001b[0m, in \u001b[0;36mChannel.inner_send\u001b[0;34m(self, method, params, return_as_dict)\u001b[0m\n\u001b[1;32m     77\u001b[0m \u001b[38;5;28;01mif\u001b[39;00m \u001b[38;5;129;01mnot\u001b[39;00m callback\u001b[38;5;241m.\u001b[39mfuture\u001b[38;5;241m.\u001b[39mdone():\n\u001b[1;32m     78\u001b[0m     callback\u001b[38;5;241m.\u001b[39mfuture\u001b[38;5;241m.\u001b[39mcancel()\n\u001b[0;32m---> 79\u001b[0m result \u001b[38;5;241m=\u001b[39m \u001b[38;5;28mnext\u001b[39m(\u001b[38;5;28miter\u001b[39m(done))\u001b[38;5;241m.\u001b[39mresult()\n\u001b[1;32m     80\u001b[0m \u001b[38;5;66;03m# Protocol now has named return values, assume result is one level deeper unless\u001b[39;00m\n\u001b[1;32m     81\u001b[0m \u001b[38;5;66;03m# there is explicit ambiguity.\u001b[39;00m\n\u001b[1;32m     82\u001b[0m \u001b[38;5;28;01mif\u001b[39;00m \u001b[38;5;129;01mnot\u001b[39;00m result:\n",
      "\u001b[0;31mTimeoutError\u001b[0m: Timeout 30000ms exceeded.\n=========================== logs ===========================\nwaiting for locator(\"#__next > main > div > section.ipc-page-background.ipc-page-background--base.sc-9b716f3b-0.hWwhTB > div > section > div > div.sc-4253d404-1.hwVyrY.ipc-page-grid__item.ipc-page-grid__item--span-2 > section:nth-child(22) > div.sc-f65f65be-0.ktSkVi > ul > li:nth-child(4) > div > ul > li:nth-child(2) > a\")\n============================================================"
     ]
    }
   ],
   "source": [
    "# for director in df1.movie_dir:\n",
    "#     await page.locator('#suggestion-search').click()\n",
    "#     await page.fill('#suggestion-search', director)\n",
    "#     await page.keyboard.press('Enter')\n",
    "#     #if r\"\\s+and\\s+\" in director:\n",
    "#        # pass//*[@id=\"__next\"]/main/div/section[1]/div/section/div/div[1]/section[5]/div[2]/ul/li[3]/div/ul/li[2]/a \n",
    "#         # /html/body/div[2]/main/div/section[1]/div/section/div/div[1]/section[5]/div[2]/ul/li[3]/div/ul/li[2]/a\n",
    "#         # \n",
    "#     #else:\n",
    "#     await page.locator('#__next > main > div.ipc-page-content-container.ipc-page-content-container--full.sc-5c7dd5e4-0.iRUEko > div.ipc-page-content-container.ipc-page-content-container--center > section > div > div.ipc-page-grid__item.ipc-page-grid__item--span-2 > section:nth-child(3) > div.sc-17bafbdb-2.fgqnfI > ul > li:nth-child(1) > div.ipc-metadata-list-summary-item__c > div.ipc-metadata-list-summary-item__tc > a').click()\n",
    "#     birthplace = await page.locator('#__next > main > div > section.ipc-page-background.ipc-page-background--base.sc-9b716f3b-0.hWwhTB > div > section > div > div.sc-4253d404-1.hwVyrY.ipc-page-grid__item.ipc-page-grid__item--span-2 > section:nth-child(22) > div.sc-f65f65be-0.ktSkVi > ul > li:nth-child(4) > div > ul > li:nth-child(2) > a').text_content()\n",
    "#     print(birthplace)"
   ]
  },
  {
   "cell_type": "code",
   "execution_count": 79,
   "id": "a2a095ad",
   "metadata": {},
   "outputs": [
    {
     "data": {
      "text/plain": [
       "(150, 8)"
      ]
     },
     "execution_count": 79,
     "metadata": {},
     "output_type": "execute_result"
    }
   ],
   "source": [
    "dfasia.shape"
   ]
  },
  {
   "cell_type": "code",
   "execution_count": 102,
   "id": "600bfb04",
   "metadata": {},
   "outputs": [],
   "source": [
    "                                  \n",
    "                                       \n",
    "                                       \n",
    "                                       "
   ]
  },
  {
   "cell_type": "code",
   "execution_count": 103,
   "id": "4b13837c",
   "metadata": {},
   "outputs": [
    {
     "data": {
      "text/plain": [
       "[]"
      ]
     },
     "execution_count": 103,
     "metadata": {},
     "output_type": "execute_result"
    }
   ],
   "source": []
  },
  {
   "cell_type": "code",
   "execution_count": 169,
   "id": "e7f23db6",
   "metadata": {},
   "outputs": [
    {
     "name": "stdout",
     "output_type": "stream",
     "text": [
      "https://www.imdb.com/find?q=michael+haneke\n"
     ]
    },
    {
     "ename": "TypeError",
     "evalue": "'NoneType' object is not iterable",
     "output_type": "error",
     "traceback": [
      "\u001b[0;31m---------------------------------------------------------------------------\u001b[0m",
      "\u001b[0;31mTypeError\u001b[0m                                 Traceback (most recent call last)",
      "Cell \u001b[0;32mIn [169], line 20\u001b[0m\n\u001b[1;32m     18\u001b[0m links \u001b[38;5;241m=\u001b[39m doc\u001b[38;5;241m.\u001b[39mfind(\u001b[38;5;124m'\u001b[39m\u001b[38;5;124ma\u001b[39m\u001b[38;5;124m'\u001b[39m, attrs\u001b[38;5;241m=\u001b[39m{\u001b[38;5;124m'\u001b[39m\u001b[38;5;124mclass\u001b[39m\u001b[38;5;124m'\u001b[39m:\u001b[38;5;124m'\u001b[39m\u001b[38;5;124mipc-metadata-list-item__list-content-item ipc-metadata-list-item__list-content-item--link\u001b[39m\u001b[38;5;124m'\u001b[39m,\u001b[38;5;124m'\u001b[39m\u001b[38;5;124mrole\u001b[39m\u001b[38;5;124m'\u001b[39m:\u001b[38;5;124m'\u001b[39m\u001b[38;5;124mbutton\u001b[39m\u001b[38;5;124m'\u001b[39m,\u001b[38;5;124m'\u001b[39m\u001b[38;5;124maria-disabled\u001b[39m\u001b[38;5;124m'\u001b[39m:\u001b[38;5;124m'\u001b[39m\u001b[38;5;124mfalse\u001b[39m\u001b[38;5;124m'\u001b[39m})\n\u001b[1;32m     19\u001b[0m \u001b[38;5;66;03m#birthplace = await page.locator(\"#__next > main > div > section.ipc-page-background.ipc-page-background--base.sc-9b716f3b-0.hWwhTB > div > section > div > div.sc-4253d404-1.hwVyrY.ipc-page-grid__item.ipc-page-grid__item--span-2 > section:nth-child(19) > div.sc-f65f65be-0.ktSkVi > ul > li:nth-child(2) > div > ul > li:nth-child(2) > a\").text()\u001b[39;00m\n\u001b[0;32m---> 20\u001b[0m \u001b[38;5;28;01mfor\u001b[39;00m link \u001b[38;5;129;01min\u001b[39;00m links:\n\u001b[1;32m     21\u001b[0m     \u001b[38;5;28mprint\u001b[39m(link)\n",
      "\u001b[0;31mTypeError\u001b[0m: 'NoneType' object is not iterable"
     ]
    }
   ],
   "source": [
    "# for director in dfasia.movie_dir:\n",
    "# #     await page.locator('#suggestion-search').click()\n",
    "# #     await page.fill('#suggestion-search', director)\n",
    "# #     await page.keyboard.press('Enter')\n",
    "#     urllist = \"https://www.imdb.com/find?q=\" + director.lower().replace(\" \",\"+\")\n",
    "#     print(urllist)\n",
    "#     html1 = await page.content()\n",
    "#     doc = BeautifulSoup(html1, \"html.parser\")\n",
    "#     #if r\"\\s+and\\s+\" in director:\n",
    "#        # pass//*[@id=\"__next\"]/main/div/section[1]/div/section/div/div[1]/section[5]/div[2]/ul/li[3]/div/ul/li[2]/a   //*[@id=\"__next\"]/main/div/section[1]/div/section/div/div[1]/section[4]/div[2]/ul/li[2]/div/ul/li[2]/a/text()\n",
    "#         # /html/body/div[2]/main/div/section[1]/div/section/div/div[1]/section[5]/div[2]/ul/li[3]/div/ul/li[2]/a\n",
    "#         # \n",
    "#     #else:\n",
    "#     #await page.locator('#__next > main > div.ipc-page-content-container.ipc-page-content-container--full.sc-5c7dd5e4-0.iRUEko > div.ipc-page-content-container.ipc-page-content-container--center > section > div > div.ipc-page-grid__item.ipc-page-grid__item--span-2 > section:nth-child(3) > div.sc-17bafbdb-2.fgqnfI > ul > li:nth-child(1) > div.ipc-metadata-list-summary-item__c > div.ipc-metadata-list-summary-item__tc > a').click()\n",
    "#     #birthplace = await page.locator('#__next > main > div > section.ipc-page-background.ipc-page-background--base.sc-9b716f3b-0.hWwhTB > div > section > div > div.sc-4253d404-1.hwVyrY.ipc-page-grid__item.ipc-page-grid__item--span-2 > section:nth-child(22) > div.sc-f65f65be-0.ktSkVi > ul > li:nth-child(4) > div > ul > li:nth-child(2) > a').text_content()\n",
    "    \n",
    "    \n",
    "#     links = doc.find('a', attrs={'class':'ipc-metadata-list-item__list-content-item ipc-metadata-list-item__list-content-item--link','role':'button','aria-disabled':'false'})\n",
    "#     #birthplace = await page.locator(\"#__next > main > div > section.ipc-page-background.ipc-page-background--base.sc-9b716f3b-0.hWwhTB > div > section > div > div.sc-4253d404-1.hwVyrY.ipc-page-grid__item.ipc-page-grid__item--span-2 > section:nth-child(19) > div.sc-f65f65be-0.ktSkVi > ul > li:nth-child(2) > div > ul > li:nth-child(2) > a\").text()\n",
    "#     for link in links:\n",
    "#         print(link)"
   ]
  },
  {
   "cell_type": "code",
   "execution_count": 180,
   "id": "164bb751",
   "metadata": {},
   "outputs": [
    {
     "name": "stdout",
     "output_type": "stream",
     "text": [
      "https://www.imdb.com/find?q=michael+haneke\n",
      "https://www.imdb.com/find?q=asghar+farhadi\n",
      "https://www.imdb.com/find?q=wong+kar-wai\n",
      "https://www.imdb.com/find?q=jacques+audiard\n",
      "https://www.imdb.com/find?q=mira+nair\n",
      "https://www.imdb.com/find?q=lászló+nemes\n",
      "https://www.imdb.com/find?q=raam+reddy\n",
      "https://www.imdb.com/find?q=abdellatif+kechiche\n",
      "https://www.imdb.com/find?q=danis+tanovic\n",
      "https://www.imdb.com/find?q=ari+folman\n",
      "https://www.imdb.com/find?q=joel+and+ethan+coen\n",
      "https://www.imdb.com/find?q=richard+linklater\n",
      "https://www.imdb.com/find?q=david+lynch\n",
      "https://www.imdb.com/find?q=cameron+crowe\n",
      "https://www.imdb.com/find?q=charlie+kaufman\n",
      "https://www.imdb.com/find?q=guillermo+del+toro\n",
      "https://www.imdb.com/find?q=steven+spielberg\n",
      "https://www.imdb.com/find?q=david+fincher\n",
      "https://www.imdb.com/find?q=terrence+malick\n",
      "https://www.imdb.com/find?q=bong+joon-ho\n",
      "https://www.imdb.com/find?q=rajat+kapoor\n",
      "https://www.imdb.com/find?q=chaitanya+tamhane\n",
      "https://www.imdb.com/find?q=dibakar+banerjee\n",
      "https://www.imdb.com/find?q=mira+nair\n",
      "https://www.imdb.com/find?q=anurag+kashyap\n",
      "https://www.imdb.com/find?q=tigmanshu+dhulia\n",
      "https://www.imdb.com/find?q=vikramaditya+motwane\n",
      "https://www.imdb.com/find?q=sudhir+mishra\n",
      "https://www.imdb.com/find?q=vishal+bhardwaj\n",
      "https://www.imdb.com/find?q=ashutosh+gowariker\n",
      "https://www.imdb.com/find?q=jean-luc+godard\n",
      "https://www.imdb.com/find?q=éric+rohmer\n",
      "https://www.imdb.com/find?q=hou+hsiao-hsien\n",
      "https://www.imdb.com/find?q=clint+eastwood\n",
      "https://www.imdb.com/find?q=pedro+costa\n",
      "https://www.imdb.com/find?q=wes+anderson\n",
      "https://www.imdb.com/find?q=leos+carax\n",
      "https://www.imdb.com/find?q=quentin+tarantino\n",
      "https://www.imdb.com/find?q=tony+scott\n",
      "https://www.imdb.com/find?q=kiyoshi+kurosawa\n",
      "https://www.imdb.com/find?q=christopher+nolan\n",
      "https://www.imdb.com/find?q=christopher+nolan\n",
      "https://www.imdb.com/find?q=zhang+yimou\n",
      "https://www.imdb.com/find?q=quentin+tarantino\n",
      "https://www.imdb.com/find?q=martin+scorsese\n",
      "https://www.imdb.com/find?q=shimit+amin\n",
      "https://www.imdb.com/find?q=wong+kar-wai\n",
      "https://www.imdb.com/find?q=joel+and+ethan+coen\n",
      "https://www.imdb.com/find?q=vishal+bhardwaj\n",
      "https://www.imdb.com/find?q=florian+henckel+von+donnersmarck\n",
      "https://www.imdb.com/find?q=roman+polanski\n",
      "https://www.imdb.com/find?q=jim+jarmusch\n",
      "https://www.imdb.com/find?q=apichatpong+weerasethakul\n",
      "https://www.imdb.com/find?q=andrey+zvyagintsev\n",
      "https://www.imdb.com/find?q=jean-pierre+jeunet\n",
      "https://www.imdb.com/find?q=james+cameron\n",
      "https://www.imdb.com/find?q=terrence+malick\n",
      "https://www.imdb.com/find?q=roy+andersson\n",
      "https://www.imdb.com/find?q=richard+linklater\n",
      "https://www.imdb.com/find?q=zhang+yimou\n",
      "https://www.imdb.com/find?q=edward+yang\n",
      "https://www.imdb.com/find?q=hou+hsiao-hsien\n",
      "https://www.imdb.com/find?q=cristian+mungiu\n",
      "https://www.imdb.com/find?q=michael+haneke\n",
      "https://www.imdb.com/find?q=wong+kar-wai\n",
      "https://www.imdb.com/find?q=satoshi+kon\n",
      "https://www.imdb.com/find?q=hayao+miyazaki\n",
      "https://www.imdb.com/find?q=asghar+farhadi\n",
      "https://www.imdb.com/find?q=claire+denis\n",
      "https://www.imdb.com/find?q=maren+ade\n",
      "https://www.imdb.com/find?q=nuri+bilge+ceylan\n",
      "https://www.imdb.com/find?q=andrew+dominik\n",
      "https://www.imdb.com/find?q=david+fincher\n",
      "https://www.imdb.com/find?q=wes+anderson\n",
      "https://www.imdb.com/find?q=peter+jackson\n",
      "https://www.imdb.com/find?q=terrence+malick\n",
      "https://www.imdb.com/find?q=leos+carax\n",
      "https://www.imdb.com/find?q=abderrahmane+sissako\n",
      "https://www.imdb.com/find?q=pablo+larraín\n",
      "https://www.imdb.com/find?q=guillermo+del+toro\n",
      "https://www.imdb.com/find?q=christopher+nolan\n",
      "https://www.imdb.com/find?q=park+chan-wook\n",
      "https://www.imdb.com/find?q=jafar+panahi\n",
      "https://www.imdb.com/find?q=florian+henckel+von+donnersmarck\n",
      "https://www.imdb.com/find?q=stephen+frears\n",
      "https://www.imdb.com/find?q=lynne+ramsay\n",
      "https://www.imdb.com/find?q=bart+layton\n",
      "https://www.imdb.com/find?q=ana+lily+amirpour\n",
      "https://www.imdb.com/find?q=bong+joon-ho\n",
      "https://www.imdb.com/find?q=s.+craig+zahler\n",
      "https://www.imdb.com/find?q=wong+kar-wai\n",
      "https://www.imdb.com/find?q=florian+henckel+von+donnersmarck\n",
      "https://www.imdb.com/find?q=michel+gondry\n",
      "https://www.imdb.com/find?q=quentin+tarantino\n",
      "https://www.imdb.com/find?q=christopher+nolan\n",
      "https://www.imdb.com/find?q=pedro+almodóvar\n",
      "https://www.imdb.com/find?q=alejandro+gonzález+iñárritu\n",
      "https://www.imdb.com/find?q=andrew+lau+and+alan+mak\n",
      "https://www.imdb.com/find?q=sofia+coppola\n",
      "https://www.imdb.com/find?q=andrew+adamson+and+vicky+jenson\n",
      "https://www.imdb.com/find?q=béla+tarr+and+ágnes+hranitzky\n",
      "https://www.imdb.com/find?q=lucien+castaing-taylor+and+verena+paravel\n",
      "https://www.imdb.com/find?q=agnès+varda\n",
      "https://www.imdb.com/find?q=paolo+sorrentino\n",
      "https://www.imdb.com/find?q=joshua+oppenheimer\n",
      "https://www.imdb.com/find?q=lav+diaz\n",
      "https://www.imdb.com/find?q=michael+haneke\n",
      "https://www.imdb.com/find?q=patricio+guzmán\n",
      "https://www.imdb.com/find?q=hayao+miyazaki\n",
      "https://www.imdb.com/find?q=asghar+farhadi\n",
      "https://www.imdb.com/find?q=david+lynch\n",
      "https://www.imdb.com/find?q=joel+and+ethan+coen\n",
      "https://www.imdb.com/find?q=jean-pierre+jeunet\n",
      "https://www.imdb.com/find?q=christopher+nolan\n",
      "https://www.imdb.com/find?q=wong+kar-wai\n",
      "https://www.imdb.com/find?q=pedro+almodóvar\n",
      "https://www.imdb.com/find?q=bong+joon-ho\n",
      "https://www.imdb.com/find?q=andrew+stanton\n",
      "https://www.imdb.com/find?q=michael+moore\n",
      "https://www.imdb.com/find?q=alfonso+cuarón\n",
      "https://www.imdb.com/find?q=hou+hsiao-hsien\n",
      "https://www.imdb.com/find?q=wes+anderson\n",
      "https://www.imdb.com/find?q=christopher+nolan\n",
      "https://www.imdb.com/find?q=apichatpong+weerasethakul\n",
      "https://www.imdb.com/find?q=joshua+oppenheimer\n",
      "https://www.imdb.com/find?q=joel+and+ethan+coen\n",
      "https://www.imdb.com/find?q=kim+jee-woon\n",
      "https://www.imdb.com/find?q=jia+zhangke\n",
      "https://www.imdb.com/find?q=hayao+miyazaki\n",
      "https://www.imdb.com/find?q=wong+kar-wai\n",
      "https://www.imdb.com/find?q=david+lynch\n",
      "https://www.imdb.com/find?q=hou+hsiao-hsien\n",
      "https://www.imdb.com/find?q=asghar+farhadi\n",
      "https://www.imdb.com/find?q=baz+luhrmann\n",
      "https://www.imdb.com/find?q=apichatpong+weerasethakul\n",
      "https://www.imdb.com/find?q=wong+kar-wai\n",
      "https://www.imdb.com/find?q=hayao+miyazaki\n",
      "https://www.imdb.com/find?q=cristian+mungiu\n",
      "https://www.imdb.com/find?q=edward+yang\n",
      "https://www.imdb.com/find?q=michael+moore\n",
      "https://www.imdb.com/find?q=kim+ki-duk\n",
      "https://www.imdb.com/find?q=stephen+daldry\n",
      "https://www.imdb.com/find?q=jiang+wen\n",
      "https://www.imdb.com/find?q=asghar+farhadi\n",
      "https://www.imdb.com/find?q=ang+lee\n",
      "https://www.imdb.com/find?q=florian+henckel+von+donnersmarck\n",
      "https://www.imdb.com/find?q=jia+zhangke\n",
      "https://www.imdb.com/find?q=alejandro+gonzález+iñárritu\n",
      "https://www.imdb.com/find?q=andrew+lau+and+alan+mak\n",
      "https://www.imdb.com/find?q=fernando+meirelles+and+kátia+lund\n"
     ]
    }
   ],
   "source": [
    "#creating a list of director urls on imdb\n",
    "\n",
    "list_of_urls = []\n",
    "for director in dfasia.movie_dir:\n",
    "    await page.locator('#suggestion-search').click()\n",
    "    await page.fill('#suggestion-search', director)\n",
    "    await page.keyboard.press('Enter')\n",
    "    urllist = \"https://www.imdb.com/find?q=\" + director.lower().replace(\" \",\"+\")\n",
    "    print(urllist)\n",
    "    list_of_urls.append(urllist)\n",
    "#     html1 = await page.content()\n",
    "#     doc = BeautifulSoup(html1, \"html.parser\")\n",
    "#     doc\n",
    "    \n",
    "#     links = doc.find('a', attrs={'class':'ipc-metadata-list-item__list-content-item ipc-metadata-list-item__list-content-item--link','role':'button','aria-disabled':'false'})\n",
    "#     #birthplace = await page.locator(\"#__next > main > div > section.ipc-page-background.ipc-page-background--base.sc-9b716f3b-0.hWwhTB > div > section > div > div.sc-4253d404-1.hwVyrY.ipc-page-grid__item.ipc-page-grid__item--span-2 > section:nth-child(19) > div.sc-f65f65be-0.ktSkVi > ul > li:nth-child(2) > div > ul > li:nth-child(2) > a\").text()\n",
    "#     for link in links:\n",
    "#         print(link)"
   ]
  },
  {
   "cell_type": "code",
   "execution_count": 181,
   "id": "59ce8612",
   "metadata": {},
   "outputs": [
    {
     "data": {
      "text/plain": [
       "['https://www.imdb.com/find?q=michael+haneke',\n",
       " 'https://www.imdb.com/find?q=asghar+farhadi',\n",
       " 'https://www.imdb.com/find?q=wong+kar-wai',\n",
       " 'https://www.imdb.com/find?q=jacques+audiard',\n",
       " 'https://www.imdb.com/find?q=mira+nair',\n",
       " 'https://www.imdb.com/find?q=lászló+nemes',\n",
       " 'https://www.imdb.com/find?q=raam+reddy',\n",
       " 'https://www.imdb.com/find?q=abdellatif+kechiche',\n",
       " 'https://www.imdb.com/find?q=danis+tanovic',\n",
       " 'https://www.imdb.com/find?q=ari+folman',\n",
       " 'https://www.imdb.com/find?q=joel+and+ethan+coen',\n",
       " 'https://www.imdb.com/find?q=richard+linklater',\n",
       " 'https://www.imdb.com/find?q=david+lynch',\n",
       " 'https://www.imdb.com/find?q=cameron+crowe',\n",
       " 'https://www.imdb.com/find?q=charlie+kaufman',\n",
       " 'https://www.imdb.com/find?q=guillermo+del+toro',\n",
       " 'https://www.imdb.com/find?q=steven+spielberg',\n",
       " 'https://www.imdb.com/find?q=david+fincher',\n",
       " 'https://www.imdb.com/find?q=terrence+malick',\n",
       " 'https://www.imdb.com/find?q=bong+joon-ho',\n",
       " 'https://www.imdb.com/find?q=rajat+kapoor',\n",
       " 'https://www.imdb.com/find?q=chaitanya+tamhane',\n",
       " 'https://www.imdb.com/find?q=dibakar+banerjee',\n",
       " 'https://www.imdb.com/find?q=mira+nair',\n",
       " 'https://www.imdb.com/find?q=anurag+kashyap',\n",
       " 'https://www.imdb.com/find?q=tigmanshu+dhulia',\n",
       " 'https://www.imdb.com/find?q=vikramaditya+motwane',\n",
       " 'https://www.imdb.com/find?q=sudhir+mishra',\n",
       " 'https://www.imdb.com/find?q=vishal+bhardwaj',\n",
       " 'https://www.imdb.com/find?q=ashutosh+gowariker',\n",
       " 'https://www.imdb.com/find?q=jean-luc+godard',\n",
       " 'https://www.imdb.com/find?q=éric+rohmer',\n",
       " 'https://www.imdb.com/find?q=hou+hsiao-hsien',\n",
       " 'https://www.imdb.com/find?q=clint+eastwood',\n",
       " 'https://www.imdb.com/find?q=pedro+costa',\n",
       " 'https://www.imdb.com/find?q=wes+anderson',\n",
       " 'https://www.imdb.com/find?q=leos+carax',\n",
       " 'https://www.imdb.com/find?q=quentin+tarantino',\n",
       " 'https://www.imdb.com/find?q=tony+scott',\n",
       " 'https://www.imdb.com/find?q=kiyoshi+kurosawa',\n",
       " 'https://www.imdb.com/find?q=christopher+nolan',\n",
       " 'https://www.imdb.com/find?q=christopher+nolan',\n",
       " 'https://www.imdb.com/find?q=zhang+yimou',\n",
       " 'https://www.imdb.com/find?q=quentin+tarantino',\n",
       " 'https://www.imdb.com/find?q=martin+scorsese',\n",
       " 'https://www.imdb.com/find?q=shimit+amin',\n",
       " 'https://www.imdb.com/find?q=wong+kar-wai',\n",
       " 'https://www.imdb.com/find?q=joel+and+ethan+coen',\n",
       " 'https://www.imdb.com/find?q=vishal+bhardwaj',\n",
       " 'https://www.imdb.com/find?q=florian+henckel+von+donnersmarck',\n",
       " 'https://www.imdb.com/find?q=roman+polanski',\n",
       " 'https://www.imdb.com/find?q=jim+jarmusch',\n",
       " 'https://www.imdb.com/find?q=apichatpong+weerasethakul',\n",
       " 'https://www.imdb.com/find?q=andrey+zvyagintsev',\n",
       " 'https://www.imdb.com/find?q=jean-pierre+jeunet',\n",
       " 'https://www.imdb.com/find?q=james+cameron',\n",
       " 'https://www.imdb.com/find?q=terrence+malick',\n",
       " 'https://www.imdb.com/find?q=roy+andersson',\n",
       " 'https://www.imdb.com/find?q=richard+linklater',\n",
       " 'https://www.imdb.com/find?q=zhang+yimou',\n",
       " 'https://www.imdb.com/find?q=edward+yang',\n",
       " 'https://www.imdb.com/find?q=hou+hsiao-hsien',\n",
       " 'https://www.imdb.com/find?q=cristian+mungiu',\n",
       " 'https://www.imdb.com/find?q=michael+haneke',\n",
       " 'https://www.imdb.com/find?q=wong+kar-wai',\n",
       " 'https://www.imdb.com/find?q=satoshi+kon',\n",
       " 'https://www.imdb.com/find?q=hayao+miyazaki',\n",
       " 'https://www.imdb.com/find?q=asghar+farhadi',\n",
       " 'https://www.imdb.com/find?q=claire+denis',\n",
       " 'https://www.imdb.com/find?q=maren+ade',\n",
       " 'https://www.imdb.com/find?q=nuri+bilge+ceylan',\n",
       " 'https://www.imdb.com/find?q=andrew+dominik',\n",
       " 'https://www.imdb.com/find?q=david+fincher',\n",
       " 'https://www.imdb.com/find?q=wes+anderson',\n",
       " 'https://www.imdb.com/find?q=peter+jackson',\n",
       " 'https://www.imdb.com/find?q=terrence+malick',\n",
       " 'https://www.imdb.com/find?q=leos+carax',\n",
       " 'https://www.imdb.com/find?q=abderrahmane+sissako',\n",
       " 'https://www.imdb.com/find?q=pablo+larraín',\n",
       " 'https://www.imdb.com/find?q=guillermo+del+toro',\n",
       " 'https://www.imdb.com/find?q=christopher+nolan',\n",
       " 'https://www.imdb.com/find?q=park+chan-wook',\n",
       " 'https://www.imdb.com/find?q=jafar+panahi',\n",
       " 'https://www.imdb.com/find?q=florian+henckel+von+donnersmarck',\n",
       " 'https://www.imdb.com/find?q=stephen+frears',\n",
       " 'https://www.imdb.com/find?q=lynne+ramsay',\n",
       " 'https://www.imdb.com/find?q=bart+layton',\n",
       " 'https://www.imdb.com/find?q=ana+lily+amirpour',\n",
       " 'https://www.imdb.com/find?q=bong+joon-ho',\n",
       " 'https://www.imdb.com/find?q=s.+craig+zahler',\n",
       " 'https://www.imdb.com/find?q=wong+kar-wai',\n",
       " 'https://www.imdb.com/find?q=florian+henckel+von+donnersmarck',\n",
       " 'https://www.imdb.com/find?q=michel+gondry',\n",
       " 'https://www.imdb.com/find?q=quentin+tarantino',\n",
       " 'https://www.imdb.com/find?q=christopher+nolan',\n",
       " 'https://www.imdb.com/find?q=pedro+almodóvar',\n",
       " 'https://www.imdb.com/find?q=alejandro+gonzález+iñárritu',\n",
       " 'https://www.imdb.com/find?q=andrew+lau+and+alan+mak',\n",
       " 'https://www.imdb.com/find?q=sofia+coppola',\n",
       " 'https://www.imdb.com/find?q=andrew+adamson+and+vicky+jenson',\n",
       " 'https://www.imdb.com/find?q=béla+tarr+and+ágnes+hranitzky',\n",
       " 'https://www.imdb.com/find?q=lucien+castaing-taylor+and+verena+paravel',\n",
       " 'https://www.imdb.com/find?q=agnès+varda',\n",
       " 'https://www.imdb.com/find?q=paolo+sorrentino',\n",
       " 'https://www.imdb.com/find?q=joshua+oppenheimer',\n",
       " 'https://www.imdb.com/find?q=lav+diaz',\n",
       " 'https://www.imdb.com/find?q=michael+haneke',\n",
       " 'https://www.imdb.com/find?q=patricio+guzmán',\n",
       " 'https://www.imdb.com/find?q=hayao+miyazaki',\n",
       " 'https://www.imdb.com/find?q=asghar+farhadi',\n",
       " 'https://www.imdb.com/find?q=david+lynch',\n",
       " 'https://www.imdb.com/find?q=joel+and+ethan+coen',\n",
       " 'https://www.imdb.com/find?q=jean-pierre+jeunet',\n",
       " 'https://www.imdb.com/find?q=christopher+nolan',\n",
       " 'https://www.imdb.com/find?q=wong+kar-wai',\n",
       " 'https://www.imdb.com/find?q=pedro+almodóvar',\n",
       " 'https://www.imdb.com/find?q=bong+joon-ho',\n",
       " 'https://www.imdb.com/find?q=andrew+stanton',\n",
       " 'https://www.imdb.com/find?q=michael+moore',\n",
       " 'https://www.imdb.com/find?q=alfonso+cuarón',\n",
       " 'https://www.imdb.com/find?q=hou+hsiao-hsien',\n",
       " 'https://www.imdb.com/find?q=wes+anderson',\n",
       " 'https://www.imdb.com/find?q=christopher+nolan',\n",
       " 'https://www.imdb.com/find?q=apichatpong+weerasethakul',\n",
       " 'https://www.imdb.com/find?q=joshua+oppenheimer',\n",
       " 'https://www.imdb.com/find?q=joel+and+ethan+coen',\n",
       " 'https://www.imdb.com/find?q=kim+jee-woon',\n",
       " 'https://www.imdb.com/find?q=jia+zhangke',\n",
       " 'https://www.imdb.com/find?q=hayao+miyazaki',\n",
       " 'https://www.imdb.com/find?q=wong+kar-wai',\n",
       " 'https://www.imdb.com/find?q=david+lynch',\n",
       " 'https://www.imdb.com/find?q=hou+hsiao-hsien',\n",
       " 'https://www.imdb.com/find?q=asghar+farhadi',\n",
       " 'https://www.imdb.com/find?q=baz+luhrmann',\n",
       " 'https://www.imdb.com/find?q=apichatpong+weerasethakul',\n",
       " 'https://www.imdb.com/find?q=wong+kar-wai',\n",
       " 'https://www.imdb.com/find?q=hayao+miyazaki',\n",
       " 'https://www.imdb.com/find?q=cristian+mungiu',\n",
       " 'https://www.imdb.com/find?q=edward+yang',\n",
       " 'https://www.imdb.com/find?q=michael+moore',\n",
       " 'https://www.imdb.com/find?q=kim+ki-duk',\n",
       " 'https://www.imdb.com/find?q=stephen+daldry',\n",
       " 'https://www.imdb.com/find?q=jiang+wen',\n",
       " 'https://www.imdb.com/find?q=asghar+farhadi',\n",
       " 'https://www.imdb.com/find?q=ang+lee',\n",
       " 'https://www.imdb.com/find?q=florian+henckel+von+donnersmarck',\n",
       " 'https://www.imdb.com/find?q=jia+zhangke',\n",
       " 'https://www.imdb.com/find?q=alejandro+gonzález+iñárritu',\n",
       " 'https://www.imdb.com/find?q=andrew+lau+and+alan+mak',\n",
       " 'https://www.imdb.com/find?q=fernando+meirelles+and+kátia+lund']"
      ]
     },
     "execution_count": 181,
     "metadata": {},
     "output_type": "execute_result"
    }
   ],
   "source": [
    "list_of_urls"
   ]
  },
  {
   "cell_type": "code",
   "execution_count": 188,
   "id": "44029534",
   "metadata": {},
   "outputs": [],
   "source": [
    "# Loop through each URL\n",
    "for url in list_of_urls:\n",
    "  # Make a GET request to the URL\n",
    "  response = requests.get(url)\n",
    "  \n",
    "  # Parse the HTML from the page\n",
    "  soup = BeautifulSoup(response.text, 'html.parser')\n",
    "\n",
    "  # Find the <section data-testid=\"PersonalDetails\"> element on the page\n",
    "  #section = soup.find('<section data-testid=\"PersonalDetails\" cel_widget_id=\"StaticFeature_PersonalDetails\" class=\"ipc-page-section ipc-page-section--base celwidget\" data-csa-c-id=\"q394n3-rfnyns-upmc0r-qiyteh\" data-cel-widget=\"StaticFeature_PersonalDetails\"><div class=\"ipc-title ipc-title--section-title ipc-title--base ipc-title--on-textPrimary\" data-testid=\"nm_pd_sec\"><div class=\"ipc-title__wrapper\"><hgroup><h3 class=\"ipc-title__text\"><span>Personal details</span></h3></hgroup><div class=\"ipc-title__actions\"><a class=\"ipc-responsive-button ipc-btn--theme-base ipc-responsive-button--transition-m ipc-btn--on-textSecondary ipc-responsive-button--half-padding\" role=\"button\" tabindex=\"0\" aria-label=\"Personal details: edit\" aria-disabled=\"false\" href=\"https://contribute.imdb.com/updates?edit=nm0594503/details&amp;ref_=nm_pdt_edt\"><svg xmlns=\"http://www.w3.org/2000/svg\" width=\"24\" height=\"24\" class=\"ipc-icon ipc-icon--edit ipc-responsive-button__icon\" id=\"iconContext-edit\" viewBox=\"0 0 24 24\" fill=\"currentColor\" role=\"presentation\"><path fill=\"none\" d=\"M0 0h24v24H0V0z\"></path><path d=\"M3 17.46v3.04c0 .28.22.5.5.5h3.04c.13 0 .26-.05.35-.15L17.81 9.94l-3.75-3.75L3.15 17.1c-.1.1-.15.22-.15.36zM20.71 7.04a.996.996 0 0 0 0-1.41l-2.34-2.34a.996.996 0 0 0-1.41 0l-1.83 1.83 3.75 3.75 1.83-1.83z\"></path></svg><span class=\"ipc-responsive-button__text\">Edit</span></a></div></div></div><div data-testid=\"nm_pd_hd\" class=\"sc-f65f65be-0 ktSkVi\"><ul class=\"ipc-metadata-list ipc-metadata-list--dividers-all ipc-metadata-list--base\" role=\"presentation\"><li role=\"presentation\" class=\"ipc-metadata-list__item ipc-metadata-list__item--single-line ipc-metadata-list-item--expandable\" data-testid=\"nm_pd_ans\"><button class=\"ipc-metadata-list-item__label ipc-metadata-list-item__label--btn\" role=\"button\" tabindex=\"0\" aria-label=\"Expand Alternative names\" aria-disabled=\"false\" type=\"button\">Alternative names</button><div class=\"ipc-metadata-list-item__content-container\"><ul class=\"ipc-inline-list ipc-inline-list--show-dividers ipc-inline-list--no-wrap ipc-inline-list--inline ipc-metadata-list-item__list-content base\" role=\"presentation\"><li role=\"presentation\" class=\"ipc-inline-list__item\"><label class=\"ipc-metadata-list-item__list-content-item\" role=\"button\" tabindex=\"0\" aria-disabled=\"false\" for=\"_blank\">Miyazaki Hayao</label></li></ul></div><button class=\"ipc-metadata-list-item__icon-link\" role=\"button\" tabindex=\"0\" aria-label=\"Expand Alternative names\" aria-disabled=\"false\" type=\"button\"><svg xmlns=\"http://www.w3.org/2000/svg\" width=\"24\" height=\"24\" class=\"ipc-icon ipc-icon--expand-more\" id=\"iconContext-expand-more\" viewBox=\"0 0 24 24\" fill=\"currentColor\" role=\"presentation\"><path opacity=\".87\" fill=\"none\" d=\"M24 24H0V0h24v24z\"></path><path d=\"M15.88 9.29L12 13.17 8.12 9.29a.996.996 0 1 0-1.41 1.41l4.59 4.59c.39.39 1.02.39 1.41 0l4.59-4.59a.996.996 0 0 0 0-1.41c-.39-.38-1.03-.39-1.42 0z\"></path></svg></button></li><li role=\"presentation\" class=\"ipc-metadata-list__item\" data-testid=\"nm_pd_he\"><button class=\"ipc-metadata-list-item__label\" role=\"button\" tabindex=\"0\" aria-disabled=\"false\" type=\"button\">Height</button><div class=\"ipc-metadata-list-item__content-container\"><ul class=\"ipc-inline-list ipc-inline-list--show-dividers ipc-inline-list--inline ipc-metadata-list-item__list-content base\" role=\"presentation\"><li role=\"presentation\" class=\"ipc-inline-list__item\"><label class=\"ipc-metadata-list-item__list-content-item\" role=\"button\" tabindex=\"0\" aria-disabled=\"false\" for=\"_blank\">5′ 4½″ (1.64 m)</label></li></ul></div></li><li role=\"presentation\" class=\"ipc-metadata-list__item\" data-testid=\"nm_pd_bl\"><button class=\"ipc-metadata-list-item__label\" role=\"button\" tabindex=\"0\" aria-disabled=\"false\" type=\"button\">Born</button><div class=\"ipc-metadata-list-item__content-container\"><ul class=\"ipc-inline-list ipc-inline-list--show-dividers ipc-inline-list--inline ipc-metadata-list-item__list-content base\" role=\"presentation\"><li role=\"presentation\" class=\"ipc-inline-list__item test-class-react\"><a class=\"ipc-metadata-list-item__list-content-item ipc-metadata-list-item__list-content-item--link\" role=\"button\" tabindex=\"0\" aria-disabled=\"false\" href=\"/search/name/?birth_monthday=1-5&amp;refine=birth_monthday&amp;ref_=nm_ov_bth_monthday\">January 5</a><span>, </span><a class=\"ipc-metadata-list-item__list-content-item ipc-metadata-list-item__list-content-item--link\" role=\"button\" tabindex=\"0\" aria-disabled=\"false\" href=\"/search/name/?birth_year=1941&amp;ref_=nm_ov_bth_year\">1941</a></li><li role=\"presentation\" class=\"ipc-inline-list__item\"><a class=\"ipc-metadata-list-item__list-content-item ipc-metadata-list-item__list-content-item--link\" role=\"button\" tabindex=\"0\" aria-disabled=\"false\" href=\"/search/name/?birth_place=Tokyo, Japan&amp;ref_=nm_pdt_bth_place\">Tokyo, Japan</a></li></ul></div></li><li role=\"presentation\" class=\"ipc-metadata-list__item\" data-testid=\"nm_pd_sp\"><button class=\"ipc-metadata-list-item__label\" role=\"button\" tabindex=\"0\" aria-disabled=\"false\" type=\"button\">Spouse</button><div class=\"ipc-metadata-list-item__content-container\"><ul class=\"ipc-inline-list ipc-inline-list--show-dividers ipc-inline-list--inline ipc-metadata-list-item__list-content base\" role=\"presentation\"><li role=\"presentation\" class=\"ipc-inline-list__item\"><a class=\"ipc-metadata-list-item__list-content-item ipc-metadata-list-item__list-content-item--link\" role=\"button\" tabindex=\"0\" aria-disabled=\"false\" href=\"/name/nm1088112/?ref_=nm_pdt_sp\">Akemi Ôta</a><span class=\"ipc-metadata-list-item__list-content-item--subText\">October 1965 - present (2 children)</span></li></ul></div></li><li role=\"presentation\" class=\"ipc-metadata-list__item ipc-metadata-list__item--single-line ipc-metadata-list-item--expandable ex\" data-testid=\"nm_pd_ch\"><button class=\"ipc-metadata-list-item__label ipc-metadata-list-item__label--btn\" role=\"button\" tabindex=\"0\" aria-label=\"Expand Children\" aria-disabled=\"false\" type=\"button\">Children</button><div class=\"ipc-metadata-list-item__content-container\"><ul class=\"ipc-inline-list ipc-inline-list--show-dividers ipc-inline-list--no-wrap ipc-inline-list--inline ipc-metadata-list-item__list-content base\" role=\"presentation\"><div data-testid=\"list-content-div-test-id\"><label class=\"ipc-metadata-list-item__list-content-item\" role=\"button\" tabindex=\"0\" aria-disabled=\"false\" for=\"_blank\">Keisuke Miyazaki</label></div></ul></div><button class=\"ipc-metadata-list-item__icon-link\" role=\"button\" tabindex=\"0\" aria-label=\"Expand Children\" aria-disabled=\"false\" type=\"button\"><svg xmlns=\"http://www.w3.org/2000/svg\" width=\"24\" height=\"24\" class=\"ipc-icon ipc-icon--expand-more\" id=\"iconContext-expand-more\" viewBox=\"0 0 24 24\" fill=\"currentColor\" role=\"presentation\"><path opacity=\".87\" fill=\"none\" d=\"M24 24H0V0h24v24z\"></path><path d=\"M15.88 9.29L12 13.17 8.12 9.29a.996.996 0 1 0-1.41 1.41l4.59 4.59c.39.39 1.02.39 1.41 0l4.59-4.59a.996.996 0 0 0 0-1.41c-.39-.38-1.03-.39-1.42 0z\"></path></svg></button></li><li role=\"presentation\" class=\"ipc-metadata-list__item s\" data-testid=\"nm_pd_pa\"><button class=\"ipc-metadata-list-item__label\" role=\"button\" tabindex=\"0\" aria-disabled=\"false\" type=\"button\">Parents</button><div class=\"ipc-metadata-list-item__content-container\"><ul class=\"ipc-inline-list ipc-inline-list--show-dividers ipc-inline-list--inline ipc-metadata-list-item__list-content base\" role=\"presentation\"><li role=\"presentation\" class=\"ipc-inline-list__item\"><label class=\"ipc-metadata-list-item__list-content-item\" role=\"button\" tabindex=\"0\" aria-disabled=\"false\" for=\"_blank\">Katsuji Miyazaki</label></li></ul></div></li><li role=\"presentation\" class=\"ipc-metadata-list__item\" data-testid=\"nm_pd_wrk\"><button class=\"ipc-metadata-list-item__label ipc-metadata-list-item__label--btn\" role=\"button\" tabindex=\"0\" aria-label=\"Go to Other works\" aria-disabled=\"false\" type=\"button\">Other works</button><div class=\"ipc-metadata-list-item__content-container\"><div class=\"ipc-html-content ipc-html-content--base ipc-metadata-list-item__html-content\" role=\"presentation\"><div class=\"ipc-html-content-inner-div\">Logo Designer for the Japan Animator Expo.</div></div></div></li><li role=\"presentation\" class=\"ipc-metadata-list__item ipc-metadata-list-item--link\" data-testid=\"nm_pd_pub\"><a class=\"ipc-metadata-list-item__label ipc-metadata-list-item__label--link\" role=\"button\" tabindex=\"0\" aria-label=\"Go to Publicity listings\" aria-disabled=\"false\" href=\"/name/nm0594503/publicity/?ref_=nm_pdt_pub\">Publicity listings</a><div class=\"ipc-metadata-list-item__content-container\"><ul class=\"ipc-inline-list ipc-inline-list--show-dividers ipc-inline-list--inline ipc-metadata-list-item__list-content base\" role=\"presentation\"><li role=\"presentation\" class=\"ipc-inline-list__item\"><a class=\"ipc-metadata-list-item__list-content-item ipc-metadata-list-item__list-content-item--link\" role=\"button\" tabindex=\"0\" aria-disabled=\"false\" href=\"/name/nm0594503/publicity/?ref_=nm_pdt_pub#printBio\">5 Print Biographies</a></li><li role=\"presentation\" class=\"ipc-inline-list__item\"><a class=\"ipc-metadata-list-item__list-content-item ipc-metadata-list-item__list-content-item--link\" role=\"button\" tabindex=\"0\" aria-disabled=\"false\" href=\"/name/nm0594503/publicity/?ref_=nm_pdt_pub#interview\">3 Interviews</a></li><li role=\"presentation\" class=\"ipc-inline-list__item\"><a class=\"ipc-metadata-list-item__list-content-item ipc-metadata-list-item__list-content-item--link\" role=\"button\" tabindex=\"0\" aria-disabled=\"false\" href=\"/name/nm0594503/publicity/?ref_=nm_pdt_pub#article\">8 Articles</a></li><li role=\"presentation\" class=\"ipc-inline-list__item\"><a class=\"ipc-metadata-list-item__list-content-item ipc-metadata-list-item__list-content-item--link\" role=\"button\" tabindex=\"0\" aria-disabled=\"false\" href=\"/name/nm0594503/publicity/?ref_=nm_pdt_pub#magCover\">1 Magazine Cover Photo</a></li></ul></div><a class=\"ipc-metadata-list-item__icon-link\" role=\"button\" tabindex=\"0\" aria-label=\"Go to Publicity listings\" aria-disabled=\"false\" href=\"/name/nm0594503/publicity/?ref_=nm_pdt_pub\"><svg xmlns=\"http://www.w3.org/2000/svg\" width=\"24\" height=\"24\" class=\"ipc-icon ipc-icon--chevron-right\" id=\"iconContext-chevron-right\" viewBox=\"0 0 24 24\" fill=\"currentColor\" role=\"presentation\"><path fill=\"none\" d=\"M0 0h24v24H0V0z\"></path><path d=\"M9.29 6.71a.996.996 0 0 0 0 1.41L13.17 12l-3.88 3.88a.996.996 0 1 0 1.41 1.41l4.59-4.59a.996.996 0 0 0 0-1.41L10.7 6.7c-.38-.38-1.02-.38-1.41.01z\"></path></svg></a></li></ul></div></section>') \n",
    "\n",
    "  # Extract the information you need from the element\n",
    "  # (e.g. the text content, or any specific child elements)\n",
    "  # and save it or print it as needed\n",
    "  #print(section)\n"
   ]
  },
  {
   "cell_type": "code",
   "execution_count": 189,
   "id": "285a985b",
   "metadata": {},
   "outputs": [
    {
     "data": {
      "text/plain": [
       "<Response [403]>"
      ]
     },
     "execution_count": 189,
     "metadata": {},
     "output_type": "execute_result"
    }
   ],
   "source": [
    "response"
   ]
  },
  {
   "cell_type": "code",
   "execution_count": 191,
   "id": "6dc0f2b9",
   "metadata": {},
   "outputs": [],
   "source": [
    "urldir = 'https://www.imdb.com/find?q=david+fincher'\n",
    "response = requests.get(urldir)\n",
    "soup = BeautifulSoup(response.text, 'html.parser')"
   ]
  },
  {
   "cell_type": "code",
   "execution_count": 192,
   "id": "8c584bc1",
   "metadata": {},
   "outputs": [
    {
     "data": {
      "text/plain": [
       "<Response [503]>"
      ]
     },
     "execution_count": 192,
     "metadata": {},
     "output_type": "execute_result"
    }
   ],
   "source": [
    "response #imdb is down?"
   ]
  },
  {
   "cell_type": "code",
   "execution_count": null,
   "id": "30c0b4e4",
   "metadata": {},
   "outputs": [],
   "source": []
  }
 ],
 "metadata": {
  "kernelspec": {
   "display_name": "Python 3 (ipykernel)",
   "language": "python",
   "name": "python3"
  },
  "language_info": {
   "codemirror_mode": {
    "name": "ipython",
    "version": 3
   },
   "file_extension": ".py",
   "mimetype": "text/x-python",
   "name": "python",
   "nbconvert_exporter": "python",
   "pygments_lexer": "ipython3",
   "version": "3.11.0rc2"
  }
 },
 "nbformat": 4,
 "nbformat_minor": 5
}
